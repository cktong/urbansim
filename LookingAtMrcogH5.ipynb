{
 "metadata": {
  "name": "LookingAtMrcogH5"
 },
 "nbformat": 3,
 "nbformat_minor": 0,
 "worksheets": [
  {
   "cells": [
    {
     "cell_type": "code",
     "collapsed": false,
     "input": [
      "import json"
     ],
     "language": "python",
     "metadata": {},
     "outputs": [],
     "prompt_number": 37
    },
    {
     "cell_type": "code",
     "collapsed": false,
     "input": [
      "import pandas as pd\n",
      "\n",
      "store = pd.HDFStore(\"data/mrcog.h5\")"
     ],
     "language": "python",
     "metadata": {},
     "outputs": [],
     "prompt_number": 1
    },
    {
     "cell_type": "code",
     "collapsed": false,
     "input": [
      "config=json.loads(open('example/buildings.json').read())"
     ],
     "language": "python",
     "metadata": {},
     "outputs": [],
     "prompt_number": 53
    },
    {
     "cell_type": "code",
     "collapsed": false,
     "input": [
      "_tbl_=store.buildings\n",
      "_tbl_"
     ],
     "language": "python",
     "metadata": {},
     "outputs": [
      {
       "html": [
        "<pre>\n",
        "&ltclass 'pandas.core.frame.DataFrame'&gt\n",
        "Int64Index: 326508 entries, 1 to 331841\n",
        "Data columns (total 10 columns):\n",
        "building_type_id              326508  non-null values\n",
        "improvement_value             326508  non-null values\n",
        "imputation_flag               326508  non-null values\n",
        "non_residential_sqft          326508  non-null values\n",
        "parcel_id                     326508  non-null values\n",
        "residential_units             326508  non-null values\n",
        "sqft_per_unit                 326508  non-null values\n",
        "unit_price_non_residential    326508  non-null values\n",
        "unit_price_residential        326508  non-null values\n",
        "year_built                    326508  non-null values\n",
        "dtypes: float32(4), int32(6)\n",
        "</pre>"
       ],
       "output_type": "pyout",
       "prompt_number": 55,
       "text": [
        "<class 'pandas.core.frame.DataFrame'>\n",
        "Int64Index: 326508 entries, 1 to 331841\n",
        "Data columns (total 10 columns):\n",
        "building_type_id              326508  non-null values\n",
        "improvement_value             326508  non-null values\n",
        "imputation_flag               326508  non-null values\n",
        "non_residential_sqft          326508  non-null values\n",
        "parcel_id                     326508  non-null values\n",
        "residential_units             326508  non-null values\n",
        "sqft_per_unit                 326508  non-null values\n",
        "unit_price_non_residential    326508  non-null values\n",
        "unit_price_residential        326508  non-null values\n",
        "year_built                    326508  non-null values\n",
        "dtypes: float32(4), int32(6)"
       ]
      }
     ],
     "prompt_number": 55
    },
    {
     "cell_type": "code",
     "collapsed": false,
     "input": [
      "est_data = pd.DataFrame(index=store.buildings.index)"
     ],
     "language": "python",
     "metadata": {},
     "outputs": [],
     "prompt_number": 56
    },
    {
     "cell_type": "code",
     "collapsed": false,
     "input": [
      "store.buildings.zone_id"
     ],
     "language": "python",
     "metadata": {},
     "outputs": [
      {
       "ename": "AttributeError",
       "evalue": "'DataFrame' object has no attribute 'zone_id'",
       "output_type": "pyerr",
       "traceback": [
        "\u001b[1;31m---------------------------------------------------------------------------\u001b[0m\n\u001b[1;31mAttributeError\u001b[0m                            Traceback (most recent call last)",
        "\u001b[1;32m<ipython-input-57-dd0905c4d5c4>\u001b[0m in \u001b[0;36m<module>\u001b[1;34m()\u001b[0m\n\u001b[1;32m----> 1\u001b[1;33m \u001b[0mstore\u001b[0m\u001b[1;33m.\u001b[0m\u001b[0mbuildings\u001b[0m\u001b[1;33m.\u001b[0m\u001b[0mzone_id\u001b[0m\u001b[1;33m\u001b[0m\u001b[0m\n\u001b[0m",
        "\u001b[1;32mC:\\Anaconda\\lib\\site-packages\\pandas\\core\\frame.pyc\u001b[0m in \u001b[0;36m__getattr__\u001b[1;34m(self, name)\u001b[0m\n\u001b[0;32m   2005\u001b[0m             \u001b[1;32mreturn\u001b[0m \u001b[0mself\u001b[0m\u001b[1;33m[\u001b[0m\u001b[0mname\u001b[0m\u001b[1;33m]\u001b[0m\u001b[1;33m\u001b[0m\u001b[0m\n\u001b[0;32m   2006\u001b[0m         raise AttributeError(\"'%s' object has no attribute '%s'\" %\n\u001b[1;32m-> 2007\u001b[1;33m                              (type(self).__name__, name))\n\u001b[0m\u001b[0;32m   2008\u001b[0m \u001b[1;33m\u001b[0m\u001b[0m\n\u001b[0;32m   2009\u001b[0m     \u001b[1;32mdef\u001b[0m \u001b[0m__setattr__\u001b[0m\u001b[1;33m(\u001b[0m\u001b[0mself\u001b[0m\u001b[1;33m,\u001b[0m \u001b[0mname\u001b[0m\u001b[1;33m,\u001b[0m \u001b[0mvalue\u001b[0m\u001b[1;33m)\u001b[0m\u001b[1;33m:\u001b[0m\u001b[1;33m\u001b[0m\u001b[0m\n",
        "\u001b[1;31mAttributeError\u001b[0m: 'DataFrame' object has no attribute 'zone_id'"
       ]
      }
     ],
     "prompt_number": 57
    },
    {
     "cell_type": "code",
     "collapsed": false,
     "input": [
      "store.buildings.ix[_tbl_.building_id]"
     ],
     "language": "python",
     "metadata": {},
     "outputs": [
      {
       "html": [
        "<pre>\n",
        "&ltclass 'pandas.core.frame.DataFrame'&gt\n",
        "Int64Index: 271609 entries, 1 to 331841\n",
        "Data columns (total 10 columns):\n",
        "building_type_id              271609  non-null values\n",
        "improvement_value             271609  non-null values\n",
        "imputation_flag               271609  non-null values\n",
        "non_residential_sqft          271609  non-null values\n",
        "parcel_id                     271609  non-null values\n",
        "residential_units             271609  non-null values\n",
        "sqft_per_unit                 271609  non-null values\n",
        "unit_price_non_residential    271609  non-null values\n",
        "unit_price_residential        271609  non-null values\n",
        "year_built                    271609  non-null values\n",
        "dtypes: float32(4), int32(6)\n",
        "</pre>"
       ],
       "output_type": "pyout",
       "prompt_number": 47,
       "text": [
        "<class 'pandas.core.frame.DataFrame'>\n",
        "Int64Index: 271609 entries, 1 to 331841\n",
        "Data columns (total 10 columns):\n",
        "building_type_id              271609  non-null values\n",
        "improvement_value             271609  non-null values\n",
        "imputation_flag               271609  non-null values\n",
        "non_residential_sqft          271609  non-null values\n",
        "parcel_id                     271609  non-null values\n",
        "residential_units             271609  non-null values\n",
        "sqft_per_unit                 271609  non-null values\n",
        "unit_price_non_residential    271609  non-null values\n",
        "unit_price_residential        271609  non-null values\n",
        "year_built                    271609  non-null values\n",
        "dtypes: float32(4), int32(6)"
       ]
      }
     ],
     "prompt_number": 47
    },
    {
     "cell_type": "code",
     "collapsed": false,
     "input": [
      "eval(\"store.parcels.ix[_tbl_.parcel_id].zone_id.values\").astype('float')"
     ],
     "language": "python",
     "metadata": {},
     "outputs": [
      {
       "output_type": "pyout",
       "prompt_number": 59,
       "text": [
        "array([ 879.,  879.,  879., ...,  891.,  893.,  895.])"
       ]
      }
     ],
     "prompt_number": 59
    },
    {
     "cell_type": "code",
     "collapsed": false,
     "input": [
      "store.buildings.fetch('zones')"
     ],
     "language": "python",
     "metadata": {},
     "outputs": [
      {
       "ename": "AttributeError",
       "evalue": "'DataFrame' object has no attribute 'fetch'",
       "output_type": "pyerr",
       "traceback": [
        "\u001b[1;31m---------------------------------------------------------------------------\u001b[0m\n\u001b[1;31mAttributeError\u001b[0m                            Traceback (most recent call last)",
        "\u001b[1;32m<ipython-input-72-428a2456c832>\u001b[0m in \u001b[0;36m<module>\u001b[1;34m()\u001b[0m\n\u001b[1;32m----> 1\u001b[1;33m \u001b[0mstore\u001b[0m\u001b[1;33m.\u001b[0m\u001b[0mbuildings\u001b[0m\u001b[1;33m.\u001b[0m\u001b[0mfetch\u001b[0m\u001b[1;33m(\u001b[0m\u001b[1;34m'zones'\u001b[0m\u001b[1;33m)\u001b[0m\u001b[1;33m\u001b[0m\u001b[0m\n\u001b[0m",
        "\u001b[1;32mC:\\Anaconda\\lib\\site-packages\\pandas\\core\\frame.pyc\u001b[0m in \u001b[0;36m__getattr__\u001b[1;34m(self, name)\u001b[0m\n\u001b[0;32m   2005\u001b[0m             \u001b[1;32mreturn\u001b[0m \u001b[0mself\u001b[0m\u001b[1;33m[\u001b[0m\u001b[0mname\u001b[0m\u001b[1;33m]\u001b[0m\u001b[1;33m\u001b[0m\u001b[0m\n\u001b[0;32m   2006\u001b[0m         raise AttributeError(\"'%s' object has no attribute '%s'\" %\n\u001b[1;32m-> 2007\u001b[1;33m                              (type(self).__name__, name))\n\u001b[0m\u001b[0;32m   2008\u001b[0m \u001b[1;33m\u001b[0m\u001b[0m\n\u001b[0;32m   2009\u001b[0m     \u001b[1;32mdef\u001b[0m \u001b[0m__setattr__\u001b[0m\u001b[1;33m(\u001b[0m\u001b[0mself\u001b[0m\u001b[1;33m,\u001b[0m \u001b[0mname\u001b[0m\u001b[1;33m,\u001b[0m \u001b[0mvalue\u001b[0m\u001b[1;33m)\u001b[0m\u001b[1;33m:\u001b[0m\u001b[1;33m\u001b[0m\u001b[0m\n",
        "\u001b[1;31mAttributeError\u001b[0m: 'DataFrame' object has no attribute 'fetch'"
       ]
      }
     ],
     "prompt_number": 72
    },
    {
     "cell_type": "code",
     "collapsed": false,
     "input": [
      "# In this way you can filter\n",
      "store.parcels[store.parcels.zone_id==883]"
     ],
     "language": "python",
     "metadata": {},
     "outputs": [
      {
       "html": [
        "<pre>\n",
        "&ltclass 'pandas.core.frame.DataFrame'&gt\n",
        "Int64Index: 677 entries, 1 to 7909\n",
        "Data columns (total 14 columns):\n",
        "allow_comm           677  non-null values\n",
        "allow_mf             677  non-null values\n",
        "allow_sf             677  non-null values\n",
        "county_id            677  non-null values\n",
        "dasz_id              677  non-null values\n",
        "land_use_type_id     677  non-null values\n",
        "land_value           677  non-null values\n",
        "max_du_acre          677  non-null values\n",
        "max_far              677  non-null values\n",
        "objectid             677  non-null values\n",
        "parcel_acres         677  non-null values\n",
        "pct_undevelopable    677  non-null values\n",
        "tract_id             677  non-null values\n",
        "zone_id              677  non-null values\n",
        "dtypes: float32(5), int32(9)\n",
        "</pre>"
       ],
       "output_type": "pyout",
       "prompt_number": 70,
       "text": [
        "<class 'pandas.core.frame.DataFrame'>\n",
        "Int64Index: 677 entries, 1 to 7909\n",
        "Data columns (total 14 columns):\n",
        "allow_comm           677  non-null values\n",
        "allow_mf             677  non-null values\n",
        "allow_sf             677  non-null values\n",
        "county_id            677  non-null values\n",
        "dasz_id              677  non-null values\n",
        "land_use_type_id     677  non-null values\n",
        "land_value           677  non-null values\n",
        "max_du_acre          677  non-null values\n",
        "max_far              677  non-null values\n",
        "objectid             677  non-null values\n",
        "parcel_acres         677  non-null values\n",
        "pct_undevelopable    677  non-null values\n",
        "tract_id             677  non-null values\n",
        "zone_id              677  non-null values\n",
        "dtypes: float32(5), int32(9)"
       ]
      }
     ],
     "prompt_number": 70
    },
    {
     "cell_type": "code",
     "collapsed": false,
     "input": [
      "store.development_event_history.reset_index"
     ],
     "language": "python",
     "metadata": {},
     "outputs": [
      {
       "output_type": "pyout",
       "prompt_number": 22,
       "text": [
        "<bound method DataFrame.reset_index of <class 'pandas.core.frame.DataFrame'>\n",
        "Int64Index: 91931 entries, 276987 to 276712\n",
        "Data columns (total 9 columns):\n",
        "building_type_id        91931  non-null values\n",
        "improvement_value       91931  non-null values\n",
        "imputation_flag         91931  non-null values\n",
        "non_residential_sqft    91931  non-null values\n",
        "parcel_id               91931  non-null values\n",
        "residential_units       91931  non-null values\n",
        "sqft_per_unit           91931  non-null values\n",
        "stories                 91931  non-null values\n",
        "year_built              91931  non-null values\n",
        "dtypes: float32(3), int32(6)>"
       ]
      }
     ],
     "prompt_number": 22
    }
   ],
   "metadata": {}
  }
 ]
}