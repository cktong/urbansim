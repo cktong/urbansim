{
 "metadata": {
  "name": "VincentExample"
 },
 "nbformat": 3,
 "nbformat_minor": 0,
 "worksheets": [
  {
   "cells": [
    {
     "cell_type": "code",
     "collapsed": false,
     "input": [
      "import vincent\n",
      "vincent.core.initialize_notebook()\n",
      "\n",
      "import ujson as json\n",
      "import numpy as np\n",
      "import pandas as pd\n",
      "base = 'http://paris.urbansim.org/data/'\n",
      "buildings = pd.read_csv(base+'buildings.csv',index_col='building_id')\n",
      "building_types = pd.read_csv(base+'building_types.csv',index_col='building_type_id')"
     ],
     "language": "python",
     "metadata": {},
     "outputs": [
      {
       "javascript": [
        "$.getScript(\"http://d3js.org/d3.v3.min.js\", function() {\n",
        "        $.getScript(\"http://d3js.org/d3.geo.projection.v0.min.js\", function() {\n",
        "            $.getScript(\"http://d3js.org/topojson.v1.min.js\", function() {\n",
        "                $.getScript(\"http://trifacta.github.com/vega/vega.js\", function() {\n",
        "                    $([IPython.events]).trigger(\"vega_loaded.vincent\");\n",
        "                })\n",
        "            })\n",
        "        })\n",
        "    });"
       ],
       "output_type": "display_data",
       "text": [
        "<IPython.core.display.Javascript at 0x5badf98>"
       ]
      }
     ],
     "prompt_number": 6
    },
    {
     "cell_type": "code",
     "collapsed": false,
     "input": [
      "e=building_types.to_dict()\n",
      "print e"
     ],
     "language": "python",
     "metadata": {},
     "outputs": [
      {
       "output_type": "stream",
       "stream": "stdout",
       "text": [
        "{'is_residential': {1: 1, 2: 1, 3: 0, 4: 0, 5: 0, 6: 0, 7: 0, 8: 0, 9: 0, 10: 0, 11: 0, 13: 0, 16: 0, 17: 0, 18: 0, 19: 0, 20: 0, 99: 0, 51: 0, 61: 0, 31: 0}, 'building_type_name': {1: 'single_family', 2: 'multi_family', 3: 'commerical_retail', 4: 'commercial_services', 5: 'office', 6: 'industrial', 7: 'medical', 8: 'educational', 9: 'airport_related', 10: 'transport_and_parking', 11: 'agricultural', 13: 'recreational', 16: 'utility', 17: 'community', 18: 'kirkland_air_base', 19: 'mixed_use', 20: 'prison', 99: 'other', 51: 'office_major', 61: 'wholesale_and_warehouse', 31: 'commercial_major'}}\n"
       ]
      }
     ],
     "prompt_number": 89
    },
    {
     "cell_type": "code",
     "collapsed": false,
     "input": [
      "d = [ \n",
      "    dict([\n",
      "        (colname, row[i]) \n",
      "        for i,colname in enumerate(building_types.columns)\n",
      "    ])\n",
      "    for row in building_types.values\n",
      "]\n",
      "\n",
      "print type(json.dumps(d))"
     ],
     "language": "python",
     "metadata": {},
     "outputs": [
      {
       "output_type": "stream",
       "stream": "stdout",
       "text": [
        "<type 'str'>\n"
       ]
      }
     ],
     "prompt_number": 77
    },
    {
     "cell_type": "code",
     "collapsed": false,
     "input": [
      "buildings"
     ],
     "language": "python",
     "metadata": {},
     "outputs": [
      {
       "html": [
        "<pre>\n",
        "&ltclass 'pandas.core.frame.DataFrame'&gt\n",
        "Int64Index: 276576 entries, 59137 to 59110\n",
        "Data columns (total 16 columns):\n",
        "building_type_id              276576  non-null values\n",
        "improvement_value             276576  non-null values\n",
        "imputation_flag               276576  non-null values\n",
        "non_residential_sqft          276576  non-null values\n",
        "parcel_id                     276576  non-null values\n",
        "residential_units             276576  non-null values\n",
        "sqft_per_unit                 276576  non-null values\n",
        "stories                       276576  non-null values\n",
        "unit_price_non_residential    276576  non-null values\n",
        "unit_price_residential        276576  non-null values\n",
        "year_built                    276576  non-null values\n",
        "dasz_id                       276576  non-null values\n",
        "building_sqft_per_job         276576  non-null values\n",
        "non_residential_units         276576  non-null values\n",
        "base_year_jobs                30325  non-null values\n",
        "all_units                     276576  non-null values\n",
        "dtypes: float64(8), int64(8)\n",
        "</pre>"
       ],
       "output_type": "pyout",
       "prompt_number": 92,
       "text": [
        "<class 'pandas.core.frame.DataFrame'>\n",
        "Int64Index: 276576 entries, 59137 to 59110\n",
        "Data columns (total 16 columns):\n",
        "building_type_id              276576  non-null values\n",
        "improvement_value             276576  non-null values\n",
        "imputation_flag               276576  non-null values\n",
        "non_residential_sqft          276576  non-null values\n",
        "parcel_id                     276576  non-null values\n",
        "residential_units             276576  non-null values\n",
        "sqft_per_unit                 276576  non-null values\n",
        "stories                       276576  non-null values\n",
        "unit_price_non_residential    276576  non-null values\n",
        "unit_price_residential        276576  non-null values\n",
        "year_built                    276576  non-null values\n",
        "dasz_id                       276576  non-null values\n",
        "building_sqft_per_job         276576  non-null values\n",
        "non_residential_units         276576  non-null values\n",
        "base_year_jobs                30325  non-null values\n",
        "all_units                     276576  non-null values\n",
        "dtypes: float64(8), int64(8)"
       ]
      }
     ],
     "prompt_number": 92
    },
    {
     "cell_type": "code",
     "collapsed": false,
     "input": [
      "ar = {}\n",
      "i=0\n",
      "while i< len(building_types.values):\n",
      "    ar[building_types.values[i][0]]=building_types.values[i][1]\n",
      "    i=i+1\n",
      "print ar"
     ],
     "language": "python",
     "metadata": {},
     "outputs": [
      {
       "output_type": "stream",
       "stream": "stdout",
       "text": [
        "{'educational': 0L, 'industrial': 0L, 'wholesale_and_warehouse': 0L, 'airport_related': 0L, 'office': 0L, 'commercial_services': 0L, 'recreational': 0L, 'office_major': 0L, 'community': 0L, 'transport_and_parking': 0L, 'mixed_use': 0L, 'multi_family': 1L, 'other': 0L, 'kirkland_air_base': 0L, 'commerical_retail': 0L, 'prison': 0L, 'agricultural': 0L, 'single_family': 1L, 'commercial_major': 0L, 'medical': 0L, 'utility': 0L}\n"
       ]
      }
     ],
     "prompt_number": 63
    },
    {
     "cell_type": "code",
     "collapsed": false,
     "input": [
      "a,b=enumerate(building_types.columns)\n",
      "print a\n",
      "print b"
     ],
     "language": "python",
     "metadata": {},
     "outputs": [
      {
       "output_type": "stream",
       "stream": "stdout",
       "text": [
        "(0, 'building_type_name')\n",
        "(1, 'is_residential')\n"
       ]
      }
     ],
     "prompt_number": 24
    },
    {
     "cell_type": "code",
     "collapsed": false,
     "input": [
      "buildings.groupby('building_type_id').stories"
     ],
     "language": "python",
     "metadata": {},
     "outputs": [
      {
       "output_type": "pyout",
       "prompt_number": 57,
       "text": [
        "<pandas.core.groupby.SeriesGroupBy at 0xd1c60f0>"
       ]
      }
     ],
     "prompt_number": 57
    },
    {
     "cell_type": "code",
     "collapsed": false,
     "input": [
      "iv = buildings.groupby('building_type_id').improvement_value.sum() / 1000000000\n",
      "iv2 = buildings.groupby('building_type_id').improvement_value.mean() / 1000000\n",
      "iv = pd.DataFrame({\"iv_sum\":iv,\"iv_mean\":iv2}).join(building_types)\n",
      "print iv"
     ],
     "language": "python",
     "metadata": {},
     "outputs": [
      {
       "output_type": "stream",
       "stream": "stdout",
       "text": [
        "                    iv_mean     iv_sum       building_type_name  is_residential\n",
        "building_type_id                                                               \n",
        "1                  0.113973  29.135889            single_family               1\n",
        "2                  0.322841   1.742371             multi_family               1\n",
        "3                  0.230034   0.766012        commerical_retail               0\n",
        "4                  0.214992   0.504371      commercial_services               0\n",
        "5                  0.352487   0.502294                   office               0\n",
        "6                  0.414257   0.484267               industrial               0\n",
        "7                  3.692196   0.435679                  medical               0\n",
        "8                  4.978324   1.184841              educational               0\n",
        "9                  4.853083   0.029118          airport_related               0\n",
        "10                 0.554929   0.259152    transport_and_parking               0\n",
        "11                 0.114254   0.053699             agricultural               0\n",
        "13                 1.263973   0.174428             recreational               0\n",
        "16                 1.257319   0.075439                  utility               0\n",
        "17                 0.884157   0.465066                community               0\n",
        "18                20.858000   0.041716        kirkland_air_base               0\n",
        "20                 7.654374   0.076544                   prison               0\n",
        "31                 1.334946   0.939802         commercial_major               0\n",
        "51                 2.042545   0.866039             office_major               0\n",
        "61                 0.614605   0.632428  wholesale_and_warehouse               0\n",
        "99                 0.346482   1.066471                    other               0\n"
       ]
      }
     ],
     "prompt_number": 61
    },
    {
     "cell_type": "code",
     "collapsed": false,
     "input": [
      "bar = vincent.Bar(iv.iv_mean)\n",
      "bar.axis_titles(x='Building Type', y='IV Mean')\n",
      "bar.display()"
     ],
     "language": "python",
     "metadata": {},
     "outputs": [
      {
       "html": [
        "<div id=\"vis10677\"></div>"
       ],
       "output_type": "display_data",
       "text": [
        "<IPython.core.display.HTML at 0x87f2ac8>"
       ]
      },
      {
       "javascript": [
        "\n",
        "( function() {\n",
        "  var _do_plot = function() {\n",
        "    if ( typeof vg == 'undefined' ) {\n",
        "      $([IPython.events]).on(\"vega_loaded.vincent\", _do_plot);\n",
        "      return;\n",
        "    }\n",
        "    vg.parse.spec({\"axes\": [{\"scale\": \"x\", \"title\": \"Building Type\", \"type\": \"x\"}, {\"scale\": \"y\", \"title\": \"IV Mean\", \"type\": \"y\"}], \"data\": [{\"name\": \"table\", \"values\": [{\"col\": \"iv_mean\", \"idx\": 1, \"val\": 0.11397278399618212}, {\"col\": \"iv_mean\", \"idx\": 2, \"val\": 0.3228406201593478}, {\"col\": \"iv_mean\", \"idx\": 3, \"val\": 0.23003355585585586}, {\"col\": \"iv_mean\", \"idx\": 4, \"val\": 0.21499202557544755}, {\"col\": \"iv_mean\", \"idx\": 5, \"val\": 0.3524871221052632}, {\"col\": \"iv_mean\", \"idx\": 6, \"val\": 0.41425731137724553}, {\"col\": \"iv_mean\", \"idx\": 7, \"val\": 3.692196440677966}, {\"col\": \"iv_mean\", \"idx\": 8, \"val\": 4.9783235336134455}, {\"col\": \"iv_mean\", \"idx\": 9, \"val\": 4.853083333333333}, {\"col\": \"iv_mean\", \"idx\": 10, \"val\": 0.5549286359743041}, {\"col\": \"iv_mean\", \"idx\": 11, \"val\": 0.11425391489361703}, {\"col\": \"iv_mean\", \"idx\": 13, \"val\": 1.2639732246376811}, {\"col\": \"iv_mean\", \"idx\": 16, \"val\": 1.25731905}, {\"col\": \"iv_mean\", \"idx\": 17, \"val\": 0.8841567984790875}, {\"col\": \"iv_mean\", \"idx\": 18, \"val\": 20.858}, {\"col\": \"iv_mean\", \"idx\": 20, \"val\": 7.6543744}, {\"col\": \"iv_mean\", \"idx\": 31, \"val\": 1.3349462215909091}, {\"col\": \"iv_mean\", \"idx\": 51, \"val\": 2.042545379716981}, {\"col\": \"iv_mean\", \"idx\": 61, \"val\": 0.6146048367346938}, {\"col\": \"iv_mean\", \"idx\": 99, \"val\": 0.34648165432098765}]}], \"height\": 500, \"legends\": [], \"marks\": [{\"from\": {\"data\": \"table\"}, \"properties\": {\"enter\": {\"width\": {\"band\": true, \"offset\": -1, \"scale\": \"x\"}, \"x\": {\"field\": \"data.idx\", \"scale\": \"x\"}, \"y\": {\"field\": \"data.val\", \"scale\": \"y\"}, \"y2\": {\"scale\": \"y\", \"value\": 0}}, \"update\": {\"fill\": {\"value\": \"steelblue\"}}}, \"type\": \"rect\"}], \"padding\": \"auto\", \"scales\": [{\"domain\": {\"data\": \"table\", \"field\": \"data.idx\"}, \"name\": \"x\", \"range\": \"width\", \"type\": \"ordinal\"}, {\"domain\": {\"data\": \"table\", \"field\": \"data.val\"}, \"name\": \"y\", \"nice\": true, \"range\": \"height\"}], \"width\": 960}, function(chart) {\n",
        "      chart({el: \"#vis10677\"}).update();\n",
        "    });\n",
        "  };\n",
        "  _do_plot();\n",
        "})();\n"
       ],
       "output_type": "display_data",
       "text": [
        "<IPython.core.display.Javascript at 0x87f20f0>"
       ]
      }
     ],
     "prompt_number": 62
    },
    {
     "cell_type": "code",
     "collapsed": false,
     "input": [
      "bar = vincent.Bar(iv.iv_sum) #multi_iter1['y1'])\n",
      "bar.axis_titles(x='Building Type', y='IV Sum')\n",
      "bar.display()"
     ],
     "language": "python",
     "metadata": {},
     "outputs": [
      {
       "html": [
        "<div id=\"vis57121\"></div>"
       ],
       "output_type": "display_data",
       "text": [
        "<IPython.core.display.HTML at 0xd1c6748>"
       ]
      },
      {
       "javascript": [
        "\n",
        "( function() {\n",
        "  var _do_plot = function() {\n",
        "    if ( typeof vg == 'undefined' ) {\n",
        "      $([IPython.events]).on(\"vega_loaded.vincent\", _do_plot);\n",
        "      return;\n",
        "    }\n",
        "    vg.parse.spec({\"axes\": [{\"scale\": \"x\", \"title\": \"Building Type\", \"type\": \"x\"}, {\"scale\": \"y\", \"title\": \"IV Sum\", \"type\": \"y\"}], \"data\": [{\"name\": \"table\", \"values\": [{\"col\": \"iv_sum\", \"idx\": 1, \"val\": 29.135888528}, {\"col\": \"iv_sum\", \"idx\": 2, \"val\": 1.742370827}, {\"col\": \"iv_sum\", \"idx\": 3, \"val\": 0.766011741}, {\"col\": \"iv_sum\", \"idx\": 4, \"val\": 0.504371292}, {\"col\": \"iv_sum\", \"idx\": 5, \"val\": 0.502294149}, {\"col\": \"iv_sum\", \"idx\": 6, \"val\": 0.484266797}, {\"col\": \"iv_sum\", \"idx\": 7, \"val\": 0.43567918}, {\"col\": \"iv_sum\", \"idx\": 8, \"val\": 1.184841001}, {\"col\": \"iv_sum\", \"idx\": 9, \"val\": 0.0291185}, {\"col\": \"iv_sum\", \"idx\": 10, \"val\": 0.259151673}, {\"col\": \"iv_sum\", \"idx\": 11, \"val\": 0.05369934}, {\"col\": \"iv_sum\", \"idx\": 13, \"val\": 0.174428305}, {\"col\": \"iv_sum\", \"idx\": 16, \"val\": 0.075439143}, {\"col\": \"iv_sum\", \"idx\": 17, \"val\": 0.465066476}, {\"col\": \"iv_sum\", \"idx\": 18, \"val\": 0.041716}, {\"col\": \"iv_sum\", \"idx\": 20, \"val\": 0.076543744}, {\"col\": \"iv_sum\", \"idx\": 31, \"val\": 0.93980214}, {\"col\": \"iv_sum\", \"idx\": 51, \"val\": 0.866039241}, {\"col\": \"iv_sum\", \"idx\": 61, \"val\": 0.632428377}, {\"col\": \"iv_sum\", \"idx\": 99, \"val\": 1.066470532}]}], \"height\": 500, \"legends\": [], \"marks\": [{\"from\": {\"data\": \"table\"}, \"properties\": {\"enter\": {\"width\": {\"band\": true, \"offset\": -1, \"scale\": \"x\"}, \"x\": {\"field\": \"data.idx\", \"scale\": \"x\"}, \"y\": {\"field\": \"data.val\", \"scale\": \"y\"}, \"y2\": {\"scale\": \"y\", \"value\": 0}}, \"update\": {\"fill\": {\"value\": \"steelblue\"}}}, \"type\": \"rect\"}], \"padding\": \"auto\", \"scales\": [{\"domain\": {\"data\": \"table\", \"field\": \"data.idx\"}, \"name\": \"x\", \"range\": \"width\", \"type\": \"ordinal\"}, {\"domain\": {\"data\": \"table\", \"field\": \"data.val\"}, \"name\": \"y\", \"nice\": true, \"range\": \"height\"}], \"width\": 960}, function(chart) {\n",
        "      chart({el: \"#vis57121\"}).update();\n",
        "    });\n",
        "  };\n",
        "  _do_plot();\n",
        "})();\n"
       ],
       "output_type": "display_data",
       "text": [
        "<IPython.core.display.Javascript at 0xd1c64a8>"
       ]
      }
     ],
     "prompt_number": 63
    },
    {
     "cell_type": "code",
     "collapsed": false,
     "input": [
      "df = buildings[(buildings.year_built > 1920)*(buildings.year_built < 2013)]\n",
      "df.year_built = (df.year_built/10).astype('int')*10-1900\n",
      "df = df.groupby(['building_type_id','year_built']).residential_units.sum()\n",
      "df = df.unstack(level=0)\n",
      "\n",
      "stacked = vincent.StackedArea(df)\n",
      "stacked.axis_titles(x='Decade', y='Acres')\n",
      "stacked.legend(title='BTypes')\n",
      "stacked.colors(brew='Spectral')\n",
      "stacked.width=800\n",
      "stacked.height=500\n",
      "stacked.display()"
     ],
     "language": "python",
     "metadata": {},
     "outputs": [
      {
       "html": [
        "<div id=\"vis59018\"></div>"
       ],
       "output_type": "display_data",
       "text": [
        "<IPython.core.display.HTML at 0x87fa940>"
       ]
      },
      {
       "javascript": [
        "\n",
        "( function() {\n",
        "  var _do_plot = function() {\n",
        "    if ( typeof vg == 'undefined' ) {\n",
        "      $([IPython.events]).on(\"vega_loaded.vincent\", _do_plot);\n",
        "      return;\n",
        "    }\n",
        "    vg.parse.spec({\"axes\": [{\"scale\": \"x\", \"title\": \"Decade\", \"type\": \"x\"}, {\"scale\": \"y\", \"title\": \"Acres\", \"type\": \"y\"}], \"data\": [{\"name\": \"table\", \"values\": [{\"col\": 1, \"idx\": 20, \"val\": 1501.0}, {\"col\": 2, \"idx\": 20, \"val\": 433.0}, {\"col\": 3, \"idx\": 20, \"val\": 4.0}, {\"col\": 4, \"idx\": 20, \"val\": 71.0}, {\"col\": 5, \"idx\": 20, \"val\": 2.0}, {\"col\": 6, \"idx\": 20, \"val\": 0.0}, {\"col\": 7, \"idx\": 20, \"val\": NaN}, {\"col\": 8, \"idx\": 20, \"val\": NaN}, {\"col\": 9, \"idx\": 20, \"val\": NaN}, {\"col\": 10, \"idx\": 20, \"val\": 0.0}, {\"col\": 11, \"idx\": 20, \"val\": NaN}, {\"col\": 13, \"idx\": 20, \"val\": NaN}, {\"col\": 16, \"idx\": 20, \"val\": NaN}, {\"col\": 17, \"idx\": 20, \"val\": 0.0}, {\"col\": 20, \"idx\": 20, \"val\": NaN}, {\"col\": 31, \"idx\": 20, \"val\": NaN}, {\"col\": 51, \"idx\": 20, \"val\": 1.0}, {\"col\": 61, \"idx\": 20, \"val\": 0.0}, {\"col\": 99, \"idx\": 20, \"val\": 0.0}, {\"col\": 1, \"idx\": 30, \"val\": 3651.0}, {\"col\": 2, \"idx\": 30, \"val\": 848.0}, {\"col\": 3, \"idx\": 30, \"val\": 13.0}, {\"col\": 4, \"idx\": 30, \"val\": 260.0}, {\"col\": 5, \"idx\": 30, \"val\": 6.0}, {\"col\": 6, \"idx\": 30, \"val\": 1.0}, {\"col\": 7, \"idx\": 30, \"val\": NaN}, {\"col\": 8, \"idx\": 30, \"val\": 0.0}, {\"col\": 9, \"idx\": 30, \"val\": NaN}, {\"col\": 10, \"idx\": 30, \"val\": 0.0}, {\"col\": 11, \"idx\": 30, \"val\": 1.0}, {\"col\": 13, \"idx\": 30, \"val\": 0.0}, {\"col\": 16, \"idx\": 30, \"val\": NaN}, {\"col\": 17, \"idx\": 30, \"val\": 1.0}, {\"col\": 20, \"idx\": 30, \"val\": NaN}, {\"col\": 31, \"idx\": 30, \"val\": 0.0}, {\"col\": 51, \"idx\": 30, \"val\": NaN}, {\"col\": 61, \"idx\": 30, \"val\": 1.0}, {\"col\": 99, \"idx\": 30, \"val\": 2.0}, {\"col\": 1, \"idx\": 40, \"val\": 12046.0}, {\"col\": 2, \"idx\": 40, \"val\": 1711.0}, {\"col\": 3, \"idx\": 40, \"val\": 33.0}, {\"col\": 4, \"idx\": 40, \"val\": 334.0}, {\"col\": 5, \"idx\": 40, \"val\": 9.0}, {\"col\": 6, \"idx\": 40, \"val\": 3.0}, {\"col\": 7, \"idx\": 40, \"val\": 0.0}, {\"col\": 8, \"idx\": 40, \"val\": 2.0}, {\"col\": 9, \"idx\": 40, \"val\": NaN}, {\"col\": 10, \"idx\": 40, \"val\": 0.0}, {\"col\": 11, \"idx\": 40, \"val\": 0.0}, {\"col\": 13, \"idx\": 40, \"val\": 1.0}, {\"col\": 16, \"idx\": 40, \"val\": NaN}, {\"col\": 17, \"idx\": 40, \"val\": 2.0}, {\"col\": 20, \"idx\": 40, \"val\": NaN}, {\"col\": 31, \"idx\": 40, \"val\": 0.0}, {\"col\": 51, \"idx\": 40, \"val\": 0.0}, {\"col\": 61, \"idx\": 40, \"val\": 0.0}, {\"col\": 99, \"idx\": 40, \"val\": 5.0}, {\"col\": 1, \"idx\": 50, \"val\": 30642.0}, {\"col\": 2, \"idx\": 50, \"val\": 3654.0}, {\"col\": 3, \"idx\": 50, \"val\": 24.0}, {\"col\": 4, \"idx\": 50, \"val\": 338.0}, {\"col\": 5, \"idx\": 50, \"val\": 22.0}, {\"col\": 6, \"idx\": 50, \"val\": 8.0}, {\"col\": 7, \"idx\": 50, \"val\": 5.0}, {\"col\": 8, \"idx\": 50, \"val\": 0.0}, {\"col\": 9, \"idx\": 50, \"val\": NaN}, {\"col\": 10, \"idx\": 50, \"val\": 1.0}, {\"col\": 11, \"idx\": 50, \"val\": 0.0}, {\"col\": 13, \"idx\": 50, \"val\": 0.0}, {\"col\": 16, \"idx\": 50, \"val\": NaN}, {\"col\": 17, \"idx\": 50, \"val\": 3.0}, {\"col\": 20, \"idx\": 50, \"val\": NaN}, {\"col\": 31, \"idx\": 50, \"val\": 2.0}, {\"col\": 51, \"idx\": 50, \"val\": 0.0}, {\"col\": 61, \"idx\": 50, \"val\": 1.0}, {\"col\": 99, \"idx\": 50, \"val\": 129.0}, {\"col\": 1, \"idx\": 60, \"val\": 18841.0}, {\"col\": 2, \"idx\": 60, \"val\": 6238.0}, {\"col\": 3, \"idx\": 60, \"val\": 9.0}, {\"col\": 4, \"idx\": 60, \"val\": 420.0}, {\"col\": 5, \"idx\": 60, \"val\": 3.0}, {\"col\": 6, \"idx\": 60, \"val\": 4.0}, {\"col\": 7, \"idx\": 60, \"val\": 202.0}, {\"col\": 8, \"idx\": 60, \"val\": 2.0}, {\"col\": 9, \"idx\": 60, \"val\": NaN}, {\"col\": 10, \"idx\": 60, \"val\": 0.0}, {\"col\": 11, \"idx\": 60, \"val\": 0.0}, {\"col\": 13, \"idx\": 60, \"val\": 0.0}, {\"col\": 16, \"idx\": 60, \"val\": 0.0}, {\"col\": 17, \"idx\": 60, \"val\": 4.0}, {\"col\": 20, \"idx\": 60, \"val\": NaN}, {\"col\": 31, \"idx\": 60, \"val\": 3.0}, {\"col\": 51, \"idx\": 60, \"val\": 14.0}, {\"col\": 61, \"idx\": 60, \"val\": 1.0}, {\"col\": 99, \"idx\": 60, \"val\": 968.0}, {\"col\": 1, \"idx\": 70, \"val\": 30615.0}, {\"col\": 2, \"idx\": 70, \"val\": 18283.0}, {\"col\": 3, \"idx\": 70, \"val\": 96.0}, {\"col\": 4, \"idx\": 70, \"val\": 827.0}, {\"col\": 5, \"idx\": 70, \"val\": 1.0}, {\"col\": 6, \"idx\": 70, \"val\": 5.0}, {\"col\": 7, \"idx\": 70, \"val\": 377.0}, {\"col\": 8, \"idx\": 70, \"val\": 2.0}, {\"col\": 9, \"idx\": 70, \"val\": NaN}, {\"col\": 10, \"idx\": 70, \"val\": 0.0}, {\"col\": 11, \"idx\": 70, \"val\": 0.0}, {\"col\": 13, \"idx\": 70, \"val\": 17.0}, {\"col\": 16, \"idx\": 70, \"val\": 0.0}, {\"col\": 17, \"idx\": 70, \"val\": 45.0}, {\"col\": 20, \"idx\": 70, \"val\": 321.0}, {\"col\": 31, \"idx\": 70, \"val\": 0.0}, {\"col\": 51, \"idx\": 70, \"val\": 0.0}, {\"col\": 61, \"idx\": 70, \"val\": 143.0}, {\"col\": 99, \"idx\": 70, \"val\": 1639.0}, {\"col\": 1, \"idx\": 80, \"val\": 24280.0}, {\"col\": 2, \"idx\": 80, \"val\": 15321.0}, {\"col\": 3, \"idx\": 80, \"val\": 7.0}, {\"col\": 4, \"idx\": 80, \"val\": 492.0}, {\"col\": 5, \"idx\": 80, \"val\": 3.0}, {\"col\": 6, \"idx\": 80, \"val\": 10.0}, {\"col\": 7, \"idx\": 80, \"val\": 974.0}, {\"col\": 8, \"idx\": 80, \"val\": 48.0}, {\"col\": 9, \"idx\": 80, \"val\": 0.0}, {\"col\": 10, \"idx\": 80, \"val\": 66.0}, {\"col\": 11, \"idx\": 80, \"val\": 3.0}, {\"col\": 13, \"idx\": 80, \"val\": 205.0}, {\"col\": 16, \"idx\": 80, \"val\": 0.0}, {\"col\": 17, \"idx\": 80, \"val\": 3.0}, {\"col\": 20, \"idx\": 80, \"val\": NaN}, {\"col\": 31, \"idx\": 80, \"val\": 1.0}, {\"col\": 51, \"idx\": 80, \"val\": 108.0}, {\"col\": 61, \"idx\": 80, \"val\": 5.0}, {\"col\": 99, \"idx\": 80, \"val\": 3005.0}, {\"col\": 1, \"idx\": 90, \"val\": 31679.0}, {\"col\": 2, \"idx\": 90, \"val\": 7444.0}, {\"col\": 3, \"idx\": 90, \"val\": 1.0}, {\"col\": 4, \"idx\": 90, \"val\": 966.0}, {\"col\": 5, \"idx\": 90, \"val\": 0.0}, {\"col\": 6, \"idx\": 90, \"val\": 1.0}, {\"col\": 7, \"idx\": 90, \"val\": 557.0}, {\"col\": 8, \"idx\": 90, \"val\": 0.0}, {\"col\": 9, \"idx\": 90, \"val\": 0.0}, {\"col\": 10, \"idx\": 90, \"val\": 0.0}, {\"col\": 11, \"idx\": 90, \"val\": 0.0}, {\"col\": 13, \"idx\": 90, \"val\": 0.0}, {\"col\": 16, \"idx\": 90, \"val\": 0.0}, {\"col\": 17, \"idx\": 90, \"val\": 41.0}, {\"col\": 20, \"idx\": 90, \"val\": 0.0}, {\"col\": 31, \"idx\": 90, \"val\": 0.0}, {\"col\": 51, \"idx\": 90, \"val\": 62.0}, {\"col\": 61, \"idx\": 90, \"val\": 6.0}, {\"col\": 99, \"idx\": 90, \"val\": 3365.0}, {\"col\": 1, \"idx\": 100, \"val\": 38316.0}, {\"col\": 2, \"idx\": 100, \"val\": 4539.0}, {\"col\": 3, \"idx\": 100, \"val\": 76.0}, {\"col\": 4, \"idx\": 100, \"val\": 621.0}, {\"col\": 5, \"idx\": 100, \"val\": 1.0}, {\"col\": 6, \"idx\": 100, \"val\": 6.0}, {\"col\": 7, \"idx\": 100, \"val\": 47.0}, {\"col\": 8, \"idx\": 100, \"val\": 0.0}, {\"col\": 9, \"idx\": 100, \"val\": 0.0}, {\"col\": 10, \"idx\": 100, \"val\": 0.0}, {\"col\": 11, \"idx\": 100, \"val\": 2.0}, {\"col\": 13, \"idx\": 100, \"val\": 0.0}, {\"col\": 16, \"idx\": 100, \"val\": 0.0}, {\"col\": 17, \"idx\": 100, \"val\": 0.0}, {\"col\": 20, \"idx\": 100, \"val\": 0.0}, {\"col\": 31, \"idx\": 100, \"val\": 1.0}, {\"col\": 51, \"idx\": 100, \"val\": 0.0}, {\"col\": 61, \"idx\": 100, \"val\": 122.0}, {\"col\": 99, \"idx\": 100, \"val\": 1578.0}, {\"col\": 1, \"idx\": 110, \"val\": 917.0}, {\"col\": 2, \"idx\": 110, \"val\": 238.0}, {\"col\": 3, \"idx\": 110, \"val\": 0.0}, {\"col\": 4, \"idx\": 110, \"val\": 0.0}, {\"col\": 5, \"idx\": 110, \"val\": 0.0}, {\"col\": 6, \"idx\": 110, \"val\": 0.0}, {\"col\": 7, \"idx\": 110, \"val\": NaN}, {\"col\": 8, \"idx\": 110, \"val\": NaN}, {\"col\": 9, \"idx\": 110, \"val\": NaN}, {\"col\": 10, \"idx\": 110, \"val\": 0.0}, {\"col\": 11, \"idx\": 110, \"val\": NaN}, {\"col\": 13, \"idx\": 110, \"val\": NaN}, {\"col\": 16, \"idx\": 110, \"val\": NaN}, {\"col\": 17, \"idx\": 110, \"val\": 0.0}, {\"col\": 20, \"idx\": 110, \"val\": NaN}, {\"col\": 31, \"idx\": 110, \"val\": 0.0}, {\"col\": 51, \"idx\": 110, \"val\": 0.0}, {\"col\": 61, \"idx\": 110, \"val\": 0.0}, {\"col\": 99, \"idx\": 110, \"val\": 107.0}]}, {\"name\": \"stats\", \"source\": \"table\", \"transform\": [{\"keys\": [\"data.idx\"], \"type\": \"facet\"}, {\"type\": \"stats\", \"value\": \"data.val\"}]}], \"height\": 500, \"legends\": [{\"fill\": \"color\", \"offset\": 0, \"title\": \"BTypes\"}], \"marks\": [{\"from\": {\"data\": \"table\", \"transform\": [{\"keys\": [\"data.col\"], \"type\": \"facet\"}, {\"height\": \"data.val\", \"point\": \"data.idx\", \"type\": \"stack\"}]}, \"marks\": [{\"properties\": {\"enter\": {\"fill\": {\"field\": \"data.col\", \"scale\": \"color\"}, \"interpolate\": {\"value\": \"monotone\"}, \"x\": {\"field\": \"data.idx\", \"scale\": \"x\"}, \"y\": {\"field\": \"y\", \"scale\": \"y\"}, \"y2\": {\"field\": \"y2\", \"scale\": \"y\"}}}, \"type\": \"area\"}], \"type\": \"group\"}], \"padding\": \"auto\", \"scales\": [{\"domain\": {\"data\": \"table\", \"field\": \"data.idx\"}, \"name\": \"x\", \"range\": \"width\", \"type\": \"linear\", \"zero\": false}, {\"domain\": {\"data\": \"stats\", \"field\": \"sum\"}, \"name\": \"y\", \"nice\": true, \"range\": \"height\", \"type\": \"linear\"}, {\"domain\": {\"data\": \"table\", \"field\": \"data.col\"}, \"name\": \"color\", \"range\": [\"#9e0142\", \"#d53e4f\", \"#f46d43\", \"#fdae61\", \"#fee08b\", \"#ffffbf\", \"#e6f598\", \"#abdda4\", \"#66c2a5\", \"#3288bd\", \"#5e4fa2\"], \"type\": \"ordinal\"}], \"width\": 800}, function(chart) {\n",
        "      chart({el: \"#vis59018\"}).update();\n",
        "    });\n",
        "  };\n",
        "  _do_plot();\n",
        "})();\n"
       ],
       "output_type": "display_data",
       "text": [
        "<IPython.core.display.Javascript at 0x87fa438>"
       ]
      }
     ],
     "prompt_number": 64
    }
   ],
   "metadata": {}
  }
 ]
}